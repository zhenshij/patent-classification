{
  "nbformat": 4,
  "nbformat_minor": 0,
  "metadata": {
    "colab": {
      "provenance": [],
      "collapsed_sections": []
    },
    "kernelspec": {
      "name": "python3",
      "display_name": "Python 3"
    },
    "language_info": {
      "name": "python"
    }
  },
  "cells": [
    {
      "cell_type": "code",
      "source": [
        "import pandas as pd"
      ],
      "metadata": {
        "id": "BoEz4C65YjP1"
      },
      "execution_count": 1,
      "outputs": []
    },
    {
      "cell_type": "code",
      "execution_count": 2,
      "metadata": {
        "colab": {
          "base_uri": "https://localhost:8080/"
        },
        "id": "C4xxeGBiS4Bq",
        "outputId": "1ded5c9b-2fe1-4df8-953a-2b3b905cc142"
      },
      "outputs": [
        {
          "output_type": "stream",
          "name": "stdout",
          "text": [
            "Mounted at /content/drive\n"
          ]
        }
      ],
      "source": [
        "from google.colab import drive\n",
        "drive.mount('/content/drive')"
      ]
    },
    {
      "cell_type": "markdown",
      "source": [
        "# Configure"
      ],
      "metadata": {
        "id": "2o2ySKiQHduY"
      }
    },
    {
      "cell_type": "code",
      "source": [
        "TXT_TYPE = 'invention_title' # invention_title, abstract, claims\n",
        "CLS_TYPE = 'Mno' # LLno, Lno, Mno, Sno, SSno"
      ],
      "metadata": {
        "id": "hicoT1G5HkJ1"
      },
      "execution_count": 3,
      "outputs": []
    },
    {
      "cell_type": "markdown",
      "source": [
        "# 데이터 불러오기"
      ],
      "metadata": {
        "id": "cqIMo3hTVYhF"
      }
    },
    {
      "cell_type": "code",
      "source": [
        "!cp /content/drive/MyDrive/train.csv /content/train.csv\n",
        "!cp /content/drive/MyDrive/val.csv /content/val.csv"
      ],
      "metadata": {
        "id": "0TWyP9k8VcQJ"
      },
      "execution_count": 4,
      "outputs": []
    },
    {
      "cell_type": "code",
      "source": [
        "train_raw = pd.read_csv('/content/train.csv')\n",
        "test_raw = pd.read_csv('/content/val.csv')"
      ],
      "metadata": {
        "id": "XRh5ehr8VdlB"
      },
      "execution_count": 5,
      "outputs": []
    },
    {
      "cell_type": "code",
      "source": [
        "train = train_raw.sample(n=50000, random_state=999) \n",
        "test = test_raw.sample(n=5000, random_state=999) "
      ],
      "metadata": {
        "id": "1YYNAw1EVe85"
      },
      "execution_count": 6,
      "outputs": []
    },
    {
      "cell_type": "code",
      "source": [
        "train = train[[TXT_TYPE, CLS_TYPE]]\n",
        "test = test[[TXT_TYPE, CLS_TYPE]]\n",
        "\n",
        "train.rename(columns={TXT_TYPE: 'text'}, inplace=True)\n",
        "train.rename(columns={CLS_TYPE: 'label'}, inplace=True)\n",
        "test.rename(columns={TXT_TYPE: 'text'}, inplace=True)\n",
        "test.rename(columns={CLS_TYPE: 'label'}, inplace=True)"
      ],
      "metadata": {
        "id": "3ao-dGMGVeQI"
      },
      "execution_count": 7,
      "outputs": []
    },
    {
      "cell_type": "code",
      "source": [
        "train.head()"
      ],
      "metadata": {
        "colab": {
          "base_uri": "https://localhost:8080/",
          "height": 206
        },
        "id": "NDkCms6pVgWj",
        "outputId": "82fbebe9-82cc-48eb-8800-e52d643639d3"
      },
      "execution_count": 8,
      "outputs": [
        {
          "output_type": "execute_result",
          "data": {
            "text/plain": [
              "                                                     text  label\n",
              "94919                                  퓨즈 스위치의 작동상태 식별 장치    281\n",
              "135846                          충격조절모듈을 구비한 원형 톱 장착 절삭 장치    259\n",
              "163772                        게르마늄이 함유된 곤달비를 이용한 소주의 제조방법    107\n",
              "139748                                           컷트용 미용가위    259\n",
              "59955   양변기 물탱크의 저장수면의 높이를 조절할 수 있는 오버플로우관을 이용한 겨울철 상수...    360"
            ],
            "text/html": [
              "\n",
              "  <div id=\"df-24420940-8396-45ea-a4b7-a5c84f9c4c00\">\n",
              "    <div class=\"colab-df-container\">\n",
              "      <div>\n",
              "<style scoped>\n",
              "    .dataframe tbody tr th:only-of-type {\n",
              "        vertical-align: middle;\n",
              "    }\n",
              "\n",
              "    .dataframe tbody tr th {\n",
              "        vertical-align: top;\n",
              "    }\n",
              "\n",
              "    .dataframe thead th {\n",
              "        text-align: right;\n",
              "    }\n",
              "</style>\n",
              "<table border=\"1\" class=\"dataframe\">\n",
              "  <thead>\n",
              "    <tr style=\"text-align: right;\">\n",
              "      <th></th>\n",
              "      <th>text</th>\n",
              "      <th>label</th>\n",
              "    </tr>\n",
              "  </thead>\n",
              "  <tbody>\n",
              "    <tr>\n",
              "      <th>94919</th>\n",
              "      <td>퓨즈 스위치의 작동상태 식별 장치</td>\n",
              "      <td>281</td>\n",
              "    </tr>\n",
              "    <tr>\n",
              "      <th>135846</th>\n",
              "      <td>충격조절모듈을 구비한 원형 톱 장착 절삭 장치</td>\n",
              "      <td>259</td>\n",
              "    </tr>\n",
              "    <tr>\n",
              "      <th>163772</th>\n",
              "      <td>게르마늄이 함유된 곤달비를 이용한 소주의 제조방법</td>\n",
              "      <td>107</td>\n",
              "    </tr>\n",
              "    <tr>\n",
              "      <th>139748</th>\n",
              "      <td>컷트용 미용가위</td>\n",
              "      <td>259</td>\n",
              "    </tr>\n",
              "    <tr>\n",
              "      <th>59955</th>\n",
              "      <td>양변기 물탱크의 저장수면의 높이를 조절할 수 있는 오버플로우관을 이용한 겨울철 상수...</td>\n",
              "      <td>360</td>\n",
              "    </tr>\n",
              "  </tbody>\n",
              "</table>\n",
              "</div>\n",
              "      <button class=\"colab-df-convert\" onclick=\"convertToInteractive('df-24420940-8396-45ea-a4b7-a5c84f9c4c00')\"\n",
              "              title=\"Convert this dataframe to an interactive table.\"\n",
              "              style=\"display:none;\">\n",
              "        \n",
              "  <svg xmlns=\"http://www.w3.org/2000/svg\" height=\"24px\"viewBox=\"0 0 24 24\"\n",
              "       width=\"24px\">\n",
              "    <path d=\"M0 0h24v24H0V0z\" fill=\"none\"/>\n",
              "    <path d=\"M18.56 5.44l.94 2.06.94-2.06 2.06-.94-2.06-.94-.94-2.06-.94 2.06-2.06.94zm-11 1L8.5 8.5l.94-2.06 2.06-.94-2.06-.94L8.5 2.5l-.94 2.06-2.06.94zm10 10l.94 2.06.94-2.06 2.06-.94-2.06-.94-.94-2.06-.94 2.06-2.06.94z\"/><path d=\"M17.41 7.96l-1.37-1.37c-.4-.4-.92-.59-1.43-.59-.52 0-1.04.2-1.43.59L10.3 9.45l-7.72 7.72c-.78.78-.78 2.05 0 2.83L4 21.41c.39.39.9.59 1.41.59.51 0 1.02-.2 1.41-.59l7.78-7.78 2.81-2.81c.8-.78.8-2.07 0-2.86zM5.41 20L4 18.59l7.72-7.72 1.47 1.35L5.41 20z\"/>\n",
              "  </svg>\n",
              "      </button>\n",
              "      \n",
              "  <style>\n",
              "    .colab-df-container {\n",
              "      display:flex;\n",
              "      flex-wrap:wrap;\n",
              "      gap: 12px;\n",
              "    }\n",
              "\n",
              "    .colab-df-convert {\n",
              "      background-color: #E8F0FE;\n",
              "      border: none;\n",
              "      border-radius: 50%;\n",
              "      cursor: pointer;\n",
              "      display: none;\n",
              "      fill: #1967D2;\n",
              "      height: 32px;\n",
              "      padding: 0 0 0 0;\n",
              "      width: 32px;\n",
              "    }\n",
              "\n",
              "    .colab-df-convert:hover {\n",
              "      background-color: #E2EBFA;\n",
              "      box-shadow: 0px 1px 2px rgba(60, 64, 67, 0.3), 0px 1px 3px 1px rgba(60, 64, 67, 0.15);\n",
              "      fill: #174EA6;\n",
              "    }\n",
              "\n",
              "    [theme=dark] .colab-df-convert {\n",
              "      background-color: #3B4455;\n",
              "      fill: #D2E3FC;\n",
              "    }\n",
              "\n",
              "    [theme=dark] .colab-df-convert:hover {\n",
              "      background-color: #434B5C;\n",
              "      box-shadow: 0px 1px 3px 1px rgba(0, 0, 0, 0.15);\n",
              "      filter: drop-shadow(0px 1px 2px rgba(0, 0, 0, 0.3));\n",
              "      fill: #FFFFFF;\n",
              "    }\n",
              "  </style>\n",
              "\n",
              "      <script>\n",
              "        const buttonEl =\n",
              "          document.querySelector('#df-24420940-8396-45ea-a4b7-a5c84f9c4c00 button.colab-df-convert');\n",
              "        buttonEl.style.display =\n",
              "          google.colab.kernel.accessAllowed ? 'block' : 'none';\n",
              "\n",
              "        async function convertToInteractive(key) {\n",
              "          const element = document.querySelector('#df-24420940-8396-45ea-a4b7-a5c84f9c4c00');\n",
              "          const dataTable =\n",
              "            await google.colab.kernel.invokeFunction('convertToInteractive',\n",
              "                                                     [key], {});\n",
              "          if (!dataTable) return;\n",
              "\n",
              "          const docLinkHtml = 'Like what you see? Visit the ' +\n",
              "            '<a target=\"_blank\" href=https://colab.research.google.com/notebooks/data_table.ipynb>data table notebook</a>'\n",
              "            + ' to learn more about interactive tables.';\n",
              "          element.innerHTML = '';\n",
              "          dataTable['output_type'] = 'display_data';\n",
              "          await google.colab.output.renderOutput(dataTable, element);\n",
              "          const docLink = document.createElement('div');\n",
              "          docLink.innerHTML = docLinkHtml;\n",
              "          element.appendChild(docLink);\n",
              "        }\n",
              "      </script>\n",
              "    </div>\n",
              "  </div>\n",
              "  "
            ]
          },
          "metadata": {},
          "execution_count": 8
        }
      ]
    },
    {
      "cell_type": "markdown",
      "source": [
        "# Models"
      ],
      "metadata": {
        "id": "OR2d22kWYZQt"
      }
    },
    {
      "cell_type": "code",
      "source": [
        "import re\n",
        "\n",
        "class Tokenizer(object):\n",
        "    def __init__(self, stop_words = [], signs_to_remove = [\"?!#%&\"]):\n",
        "        self.stop_words = stop_words\n",
        "        self.signs_to_remove = signs_to_remove\n",
        "\n",
        "    def tokenize(self,text):\n",
        "        return text.lower().split(' ')\n",
        "\n",
        "    def remove_stop_words(self,token):\n",
        "        if token in self.stop_words:\n",
        "            return \"stop_word\"\n",
        "        else:\n",
        "            return token\n",
        "\n",
        "    def remove_punctuation(self,token):\n",
        "        return re.sub(str(self.signs_to_remove),\"\",token)"
      ],
      "metadata": {
        "id": "GSRAhdA9aUDT"
      },
      "execution_count": 9,
      "outputs": []
    },
    {
      "cell_type": "code",
      "source": [
        "class NotSeen(Exception):\n",
        "    \"\"\"\n",
        "    Exception for tokens which are not indexed \n",
        "    because never seen in the trainin data\n",
        "    \"\"\"\n",
        "    def __init__(self, value):\n",
        "        self.value = value\n",
        "    \n",
        "    def __str__(self):\n",
        "        return \"Token '{}' is never seen in the training set.\".format(self.value)"
      ],
      "metadata": {
        "id": "HW3bmt66DcL5"
      },
      "execution_count": 10,
      "outputs": []
    },
    {
      "cell_type": "code",
      "source": [
        "import operator\n",
        "from functools import reduce\n",
        "\n",
        "class Classifier(object):\n",
        "    \"\"\"docstring for Classifier\"\"\"\n",
        "    def __init__(self, trainedData, tokenizer):\n",
        "        super(Classifier, self).__init__()\n",
        "        self.data = trainedData\n",
        "        self.tokenizer = tokenizer\n",
        "        self.defaultProb = 0.000000001\n",
        "\n",
        "    # ali ata bak\n",
        "    def classify(self, text):\n",
        "        \n",
        "        documentCount = self.data.getDocCount()\n",
        "        classes = self.data.getClasses()\n",
        "\n",
        "        # only unique tokens\n",
        "        tokens = list(set(self.tokenizer.tokenize(text)))\n",
        "        \n",
        "        probsOfClasses = {}\n",
        "\n",
        "        for className in classes:\n",
        "            \n",
        "            # we are calculating the probablity of seeing each token \n",
        "            # in the text of this class\n",
        "            # P(Token_1|Class_i)\n",
        "            tokensProbs = [self.getTokenProb(token, className) for token in tokens]\n",
        "            \n",
        "            # calculating the probablity of seeing the the set of tokens\n",
        "            # in the text of this class\n",
        "            # P(Token_1|Class_i) * P(Token_2|Class_i) * ... * P(Token_n|Class_i)\n",
        "            try:\n",
        "                tokenSetProb = reduce(lambda a,b: a*b, (i for i in tokensProbs if i) ) \n",
        "            except:\n",
        "                tokenSetProb = 0\n",
        "            \n",
        "            probsOfClasses[className] = tokenSetProb * self.getPrior(className)\n",
        "        \n",
        "        return sorted(probsOfClasses.items(), \n",
        "            key=operator.itemgetter(1), \n",
        "            reverse=True)\n",
        "\n",
        "\n",
        "    def getPrior(self, className):\n",
        "        return self.data.getClassDocCount(className) /  self.data.getDocCount()\n",
        "\n",
        "    def getTokenProb(self, token, className):\n",
        "        #p(token|Class_i)\n",
        "        classDocumentCount = self.data.getClassDocCount(className)\n",
        "\n",
        "        # if the token is not seen in the training set, so not indexed,\n",
        "        # then we return None not to include it into calculations.\n",
        "        try:\n",
        "            tokenFrequency = self.data.getFrequency(token, className)\n",
        "        except NotSeen as e:\n",
        "            return None\n",
        "\n",
        "        # this means the token is not seen in this class but others.\n",
        "        if tokenFrequency is None:\n",
        "            return self.defaultProb\n",
        "\n",
        "        probablity =  tokenFrequency / classDocumentCount\n",
        "        return probablity"
      ],
      "metadata": {
        "id": "VRW9inS6bV7i"
      },
      "execution_count": 11,
      "outputs": []
    },
    {
      "cell_type": "code",
      "source": [
        "class Trainer(object):\n",
        "    def __init__(self, tokenizer):\n",
        "        super(Trainer, self).__init__()\n",
        "        self.tokenizer = tokenizer\n",
        "        self.data = TrainedData()\n",
        "\n",
        "    def train(self, text, className):\n",
        "        \"\"\"\n",
        "        enhances trained data using the given text and class\n",
        "        \"\"\"\n",
        "        self.data.increaseClass(className)\n",
        "\n",
        "        tokens = self.tokenizer.tokenize(text)\n",
        "        for token in tokens:\n",
        "            token = self.tokenizer.remove_stop_words(token)\n",
        "            token = self.tokenizer.remove_punctuation(token)\n",
        "            self.data.increaseToken(token, className)"
      ],
      "metadata": {
        "id": "oq_tv1hvYYgo"
      },
      "execution_count": 12,
      "outputs": []
    },
    {
      "cell_type": "code",
      "source": [
        "import sys\n",
        "\n",
        "class TrainedData(object):\n",
        "    def __init__(self):\n",
        "        self.docCountOfClasses = {}\n",
        "        self.frequencies = {}\n",
        "\n",
        "    def increaseClass(self, className, byAmount = 1):\n",
        "        self.docCountOfClasses[className] = self.docCountOfClasses.get(className, 0) + 1\n",
        "\n",
        "    def increaseToken(self, token, className, byAmount = 1):\n",
        "        if not token in self.frequencies:\n",
        "                self.frequencies[token] = {}\n",
        "\n",
        "        self.frequencies[token][className] = self.frequencies[token].get(className, 0) + 1\n",
        "\n",
        "    def decreaseToken(self, token, className, byAmount=1):\n",
        "        if token not in self.frequencies:\n",
        "            raise NotSeen(token)\n",
        "        foundToken = self.frequencies[token]\n",
        "        if className not in self.frequencies:\n",
        "            sys.stderr.write(\"Warning: token %s has no entry for class %s. Not decreasing.\\n\" % (token, className))\n",
        "            return\n",
        "        if foundToken[className] < byAmount:\n",
        "            raise ArithmeticError(\"Could not decrease %s/%s count (%i) by %i, \"\n",
        "                                  \"as that would result in a negative number.\" % (\n",
        "                                      token, className, foundToken[className], byAmount))\n",
        "        foundToken[className] -= byAmount\n",
        "\n",
        "    def getDocCount(self):\n",
        "        \"\"\"\n",
        "        returns all documents count\n",
        "        \"\"\"\n",
        "        return sum(self.docCountOfClasses.values())\n",
        "\n",
        "    def getClasses(self):\n",
        "        \"\"\"\n",
        "        returns the names of the available classes as list\n",
        "        \"\"\"\n",
        "        return self.docCountOfClasses.keys()\n",
        "\n",
        "    def getClassDocCount(self, className):\n",
        "        \"\"\"\n",
        "        returns document count of the class. \n",
        "        If class is not available, it returns None\n",
        "        \"\"\"\n",
        "        return self.docCountOfClasses.get(className, None)\n",
        "\n",
        "    def getFrequency(self, token, className):\n",
        "        if token in self.frequencies:\n",
        "            foundToken = self.frequencies[token]\n",
        "            return foundToken.get(className)\n",
        "        else:\n",
        "            raise NotSeen(token)"
      ],
      "metadata": {
        "id": "rJB8l3svXwj7"
      },
      "execution_count": 13,
      "outputs": []
    },
    {
      "cell_type": "markdown",
      "source": [
        "# Train"
      ],
      "metadata": {
        "id": "gu1ESNVrEISt"
      }
    },
    {
      "cell_type": "code",
      "source": [
        "tokenizer = Tokenizer(stop_words = [], signs_to_remove = [\"?!#%&\"])"
      ],
      "metadata": {
        "id": "YruCosVeSH-8"
      },
      "execution_count": 14,
      "outputs": []
    },
    {
      "cell_type": "code",
      "source": [
        "newsTrainer = Trainer(tokenizer)"
      ],
      "metadata": {
        "id": "xBocuqB4YHR1"
      },
      "execution_count": 15,
      "outputs": []
    },
    {
      "cell_type": "code",
      "source": [
        "for row in train.itertuples():\n",
        "    newsTrainer.train(row.text, row.label)"
      ],
      "metadata": {
        "id": "iH84bLrqDvLE"
      },
      "execution_count": 16,
      "outputs": []
    },
    {
      "cell_type": "markdown",
      "source": [
        "# Test"
      ],
      "metadata": {
        "id": "IZrQamNZEtdE"
      }
    },
    {
      "cell_type": "code",
      "source": [
        "newsClassifier = Classifier(newsTrainer.data, tokenizer)"
      ],
      "metadata": {
        "id": "Tft0_qqwEiy7"
      },
      "execution_count": 17,
      "outputs": []
    },
    {
      "cell_type": "code",
      "source": [
        "total_cnt = 0\n",
        "top1_cnt = 0\n",
        "top5_cnt = 0\n",
        "\n",
        "for row in test.itertuples():\n",
        "    classification = newsClassifier.classify(row.text)\n",
        "    ans = int(row.label)\n",
        "    if int(classification[0][0]) == ans:\n",
        "        top1_cnt += 1\n",
        "        top5_cnt += 1\n",
        "    else:\n",
        "        for cls, _ in classification[1:5]:\n",
        "            if int(cls) == ans:\n",
        "                top5_cnt += 1\n",
        "                break\n",
        "\n",
        "    total_cnt += 1\n",
        "\n",
        "print('TOP_1: ', top1_cnt / total_cnt)\n",
        "print('TOP_5: ', top5_cnt / total_cnt)"
      ],
      "metadata": {
        "colab": {
          "base_uri": "https://localhost:8080/"
        },
        "id": "5_55t1iGFRSS",
        "outputId": "1a18b050-4ebb-44bc-fb4a-a0e63b700630"
      },
      "execution_count": 18,
      "outputs": [
        {
          "output_type": "stream",
          "name": "stdout",
          "text": [
            "TOP_1:  0.4544\n",
            "TOP_5:  0.7446\n"
          ]
        }
      ]
    },
    {
      "cell_type": "markdown",
      "source": [
        "## For Lno"
      ],
      "metadata": {
        "id": "cEXoBjNtSRMc"
      }
    },
    {
      "cell_type": "code",
      "source": [
        "total_cnt = 0\n",
        "top1_cnt = 0\n",
        "top5_cnt = 0\n",
        "\n",
        "for row in test.itertuples():\n",
        "    classification = newsClassifier.classify(row.text)\n",
        "    ans = row.label\n",
        "    if classification[0][0] == ans:\n",
        "        top1_cnt += 1\n",
        "        top5_cnt += 1\n",
        "    else:\n",
        "        for cls, _ in classification[1:5]:\n",
        "            if cls == ans:\n",
        "                top5_cnt += 1\n",
        "                break\n",
        "\n",
        "    total_cnt += 1\n",
        "\n",
        "print('TOP_1: ', top1_cnt / total_cnt)\n",
        "print('TOP_5: ', top5_cnt / total_cnt)"
      ],
      "metadata": {
        "id": "Euc-DGTtKov1"
      },
      "execution_count": null,
      "outputs": []
    },
    {
      "cell_type": "code",
      "source": [],
      "metadata": {
        "id": "dmu2Ph8ZFtBT"
      },
      "execution_count": null,
      "outputs": []
    }
  ]
}